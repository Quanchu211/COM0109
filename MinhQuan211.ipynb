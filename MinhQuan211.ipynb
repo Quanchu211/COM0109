{
  "cells": [
    {
      "cell_type": "markdown",
      "metadata": {
        "id": "view-in-github",
        "colab_type": "text"
      },
      "source": [
        "<a href=\"https://colab.research.google.com/github/Quanchu211/COM0109/blob/main/MinhQuan211.ipynb\" target=\"_parent\"><img src=\"https://colab.research.google.com/assets/colab-badge.svg\" alt=\"Open In Colab\"/></a>"
      ]
    },
    {
      "cell_type": "code",
      "source": [
        "name = input(\"Bạn tên là gì? \")\n",
        "print(f\"Xin chào, {name}! Rất vui được gặp bạn.\")"
      ],
      "metadata": {
        "colab": {
          "base_uri": "https://localhost:8080/"
        },
        "id": "8jklDpy6ReV2",
        "outputId": "0ce02b02-32e7-4ea8-a877-13ac05fbc5f0"
      },
      "execution_count": 8,
      "outputs": [
        {
          "output_type": "stream",
          "name": "stdout",
          "text": [
            "Bạn tên là gì? Minh Quan\n",
            "Xin chào, Minh Quan! Rất vui được gặp bạn.\n"
          ]
        }
      ]
    },
    {
      "cell_type": "code",
      "source": [
        "length = float(input(\"Nhập chiều dài hình chữ nhật: \"))\n",
        "width = float(input(\"Nhập chiều rộng hình chữ nhật: \"))\n",
        "area = length * width\n",
        "print(f\"Diện tích hình chữ nhật là: {area}\")"
      ],
      "metadata": {
        "colab": {
          "base_uri": "https://localhost:8080/"
        },
        "id": "xSOMU6-LRpBe",
        "outputId": "ca6fc2ae-64d1-410d-8052-ac2eb57b4b22"
      },
      "execution_count": 9,
      "outputs": [
        {
          "output_type": "stream",
          "name": "stdout",
          "text": [
            "Nhập chiều dài hình chữ nhật: 2\n",
            "Nhập chiều rộng hình chữ nhật: 3\n",
            "Diện tích hình chữ nhật là: 6.0\n"
          ]
        }
      ]
    },
    {
      "cell_type": "code",
      "source": [
        "first_name = input(\"Nhập tên của bạn: \")\n",
        "last_name = input(\"Nhập họ của bạn: \")\n",
        "full_name = f\"{last_name} {first_name}\"\n",
        "print(f\"Họ tên đầy đủ của bạn là: {full_name}\")"
      ],
      "metadata": {
        "colab": {
          "base_uri": "https://localhost:8080/"
        },
        "id": "RL3DMiA8R3cL",
        "outputId": "efe6740c-14cb-4522-fe59-825caaa6af21"
      },
      "execution_count": 10,
      "outputs": [
        {
          "output_type": "stream",
          "name": "stdout",
          "text": [
            "Nhập tên của bạn: Minh Quan\n",
            "Nhập họ của bạn: Nguyen Chu\n",
            "Họ tên đầy đủ của bạn là: Nguyen Chu Minh Quan\n"
          ]
        }
      ]
    },
    {
      "cell_type": "code",
      "source": [
        "for i in range(1, 11):\n",
        "    print(i)"
      ],
      "metadata": {
        "colab": {
          "base_uri": "https://localhost:8080/"
        },
        "id": "tss0kR3_SWr5",
        "outputId": "b4e23485-e10b-488c-c0dc-671cf7445187"
      },
      "execution_count": 11,
      "outputs": [
        {
          "output_type": "stream",
          "name": "stdout",
          "text": [
            "1\n",
            "2\n",
            "3\n",
            "4\n",
            "5\n",
            "6\n",
            "7\n",
            "8\n",
            "9\n",
            "10\n"
          ]
        }
      ]
    },
    {
      "cell_type": "code",
      "source": [
        "for i in range(2, 21, 2):\n",
        "    print(i)"
      ],
      "metadata": {
        "colab": {
          "base_uri": "https://localhost:8080/"
        },
        "id": "3cDhYb16Sbh3",
        "outputId": "fb15f4f6-5c47-4460-e50e-02f618f86235"
      },
      "execution_count": 12,
      "outputs": [
        {
          "output_type": "stream",
          "name": "stdout",
          "text": [
            "2\n",
            "4\n",
            "6\n",
            "8\n",
            "10\n",
            "12\n",
            "14\n",
            "16\n",
            "18\n",
            "20\n"
          ]
        }
      ]
    },
    {
      "cell_type": "code",
      "source": [
        "sum = 0\n",
        "count = 1\n",
        "while count <= 100:\n",
        "    sum += count\n",
        "    count += 1\n",
        "\n",
        "print(f\"{sum}\")"
      ],
      "metadata": {
        "colab": {
          "base_uri": "https://localhost:8080/"
        },
        "id": "rA2eEzRtSsUI",
        "outputId": "d066d824-1864-4fc3-d375-8e75564024d6"
      },
      "execution_count": 21,
      "outputs": [
        {
          "output_type": "stream",
          "name": "stdout",
          "text": [
            "5050\n"
          ]
        }
      ]
    },
    {
      "cell_type": "code",
      "source": [
        "sum = 0\n",
        "for count in range(1, 101):\n",
        "    sum += count\n",
        "\n",
        "print(f\"{sum}\")"
      ],
      "metadata": {
        "colab": {
          "base_uri": "https://localhost:8080/"
        },
        "id": "7rAHv0xMS0yt",
        "outputId": "89712672-ee23-4205-bbe6-d0ef7193f58d"
      },
      "execution_count": 22,
      "outputs": [
        {
          "output_type": "stream",
          "name": "stdout",
          "text": [
            "5050\n"
          ]
        }
      ]
    }
  ],
  "metadata": {
    "colab": {
      "name": "Chào mừng bạn đến với Colab",
      "toc_visible": true,
      "provenance": [],
      "include_colab_link": true
    },
    "kernelspec": {
      "display_name": "Python 3",
      "name": "python3"
    }
  },
  "nbformat": 4,
  "nbformat_minor": 0
}