{
  "cells": [
    {
      "cell_type": "markdown",
      "metadata": {
        "id": "view-in-github",
        "colab_type": "text"
      },
      "source": [
        "<a href=\"https://colab.research.google.com/github/Quanchu211/COM0109/blob/main/grex%20lec3.ipynb\" target=\"_parent\"><img src=\"https://colab.research.google.com/assets/colab-badge.svg\" alt=\"Open In Colab\"/></a>"
      ]
    },
    {
      "cell_type": "code",
      "source": [
        "def calculate_statistics():\n",
        "    while True:\n",
        "        try:\n",
        "            # Nhập 3 số từ người dùng, cách nhau bằng dấu cách\n",
        "            nums = input(\"Nhập 3 số khác nhau, cách nhau bằng dấu cách: \").split()\n",
        "\n",
        "            # Chuyển đổi sang số thực và kiểm tra số lượng\n",
        "            if len(nums) != 3:\n",
        "                raise ValueError(\"Vui lòng nhập chính xác 3 số.\")\n",
        "\n",
        "            numbers = [float(n) for n in nums]\n",
        "\n",
        "            # Kiểm tra 3 số có khác nhau không\n",
        "            if len(set(numbers)) != 3:\n",
        "                raise ValueError(\"Các số phải khác nhau.\")\n",
        "\n",
        "            # Tính các giá trị thống kê\n",
        "            average = sum(numbers) / 3                     # Trung bình\n",
        "            median = sorted(numbers)[1]                   # Trung vị\n",
        "            value_range = max(numbers) - min(numbers)     # Khoảng cách (range)\n",
        "\n",
        "            # In kết quả\n",
        "            print(f\"Trung bình: {average}\")\n",
        "            print(f\"Trung vị: {median}\")\n",
        "            print(f\"Khoảng cách: {value_range}\")\n",
        "            break\n",
        "\n",
        "        except ValueError as e:\n",
        "            print(f\"Giá trị không hợp lệ: {e}\")\n",
        "            print(\"Vui lòng thử lại.\\n\")"
      ],
      "metadata": {
        "id": "BSkBFhhSmI46"
      },
      "execution_count": 25,
      "outputs": []
    }
  ],
  "metadata": {
    "colab": {
      "name": "Chào mừng bạn đến với Colab",
      "provenance": [],
      "include_colab_link": true
    },
    "kernelspec": {
      "display_name": "Python 3",
      "name": "python3"
    }
  },
  "nbformat": 4,
  "nbformat_minor": 0
}